{
 "cells": [
  {
   "cell_type": "code",
   "execution_count": null,
   "id": "56a6b42c-355f-4190-bd71-c95f599f1f90",
   "metadata": {},
   "outputs": [],
   "source": [
    "import argparse\n",
    "import os\n",
    "import sys\n",
    "import random\n",
    "sys.path.append(\".\")\n",
    "import numpy as np\n",
    "import time\n",
    "import torch as th\n",
    "import intel_extension_for_pytorch as ipex\n",
    "from guided_diffusion.bratsloader import BRATSDataset3D_midslice\n",
    "import torchvision.utils as vutils\n",
    "from guided_diffusion.utils import staple\n",
    "from guided_diffusion.script_util import (\n",
    "    model_and_diffusion_defaults,\n",
    "    create_model_and_diffusion,\n",
    "    add_dict_to_argparser,\n",
    "    args_to_dict,\n",
    ")\n",
    "import torchvision.transforms as transforms"
   ]
  },
  {
   "cell_type": "code",
   "execution_count": null,
   "id": "d3b07689-3828-4275-967c-cdea0c14f6ac",
   "metadata": {},
   "outputs": [],
   "source": [
    "seed=10\n",
    "th.manual_seed(seed)\n",
    "np.random.seed(seed)\n",
    "random.seed(seed)"
   ]
  },
  {
   "cell_type": "code",
   "execution_count": null,
   "id": "67e8801f-5a36-413c-90bd-a51881366582",
   "metadata": {
    "tags": []
   },
   "outputs": [],
   "source": [
    "def create_argparser():\n",
    "    defaults = dict(\n",
    "        data_name = 'BRATS',\n",
    "        data_dir=\"../dataset/brats2020/testing\",\n",
    "        clip_denoised=True,\n",
    "        num_samples=1,\n",
    "        batch_size=1,\n",
    "        use_ddim=False,\n",
    "        model_path=\"\",         #path to pretrain model\n",
    "        num_ensemble=5,      #number of samples in the ensemble\n",
    "        gpu_dev = \"0\",\n",
    "        out_dir='./results/',\n",
    "        multi_gpu = None,\n",
    "        debug = False\n",
    "    )\n",
    "    defaults.update(model_and_diffusion_defaults())\n",
    "    parser = argparse.ArgumentParser()\n",
    "    add_dict_to_argparser(parser, defaults)\n",
    "    return parser"
   ]
  },
  {
   "cell_type": "code",
   "execution_count": null,
   "id": "07c49763-0d1c-4289-9075-d2010672683f",
   "metadata": {
    "tags": []
   },
   "outputs": [],
   "source": [
    "args = create_argparser().parse_args()"
   ]
  },
  {
   "cell_type": "code",
   "execution_count": null,
   "id": "481e22a0-bcfe-449c-95d8-7910279e0fd9",
   "metadata": {
    "tags": []
   },
   "outputs": [],
   "source": [
    "tran_list = [transforms.Resize((256,256)),]\n",
    "transform_test = transforms.Compose(tran_list)\n",
    "\n",
    "ds = BRATSDataset3D_midslice('data/MICCAI_BraTS2020_TrainingData',transform_test)\n",
    "\n",
    "datal = th.utils.data.DataLoader(\n",
    "    ds,\n",
    "    batch_size=1,\n",
    "    shuffle=True)\n",
    "data = iter(datal)\n",
    "\n",
    "# print(args.batch_size)\n",
    "\n",
    "# model, diffusion = create_model_and_diffusion(\n",
    "#     **args_to_dict(args, model_and_diffusion_defaults().keys())\n",
    "# )\n",
    "\n",
    "######################\n",
    "# state_dict = dist_util.load_state_dict(args.model_path, map_location=\"cpu\")\n",
    "# from collections import OrderedDict\n",
    "# new_state_dict = OrderedDict()\n",
    "# for k, v in state_dict.items():\n",
    "#     # name = k[7:] # remove `module.`\n",
    "#     if 'module.' in k:\n",
    "#         new_state_dict[k[7:]] = v\n",
    "#         # load params\n",
    "#     else:\n",
    "#         new_state_dict = state_dict\n",
    "\n",
    "# model.load_state_dict(new_state_dict)\n",
    "######################\n",
    "\n",
    "# model.eval()\n",
    "# model = ipex.optimize(model, dtype=th.bfloat16)\n",
    "\n",
    "for _ in range(len(data)):\n",
    "    b, m, path = next(data)  #should return an image from the dataloader \"data\"\n",
    "    c = th.randn_like(b[:, :1, ...])\n",
    "    img = th.cat((b, c), dim=1)     #add a noise channel$\n",
    "\n",
    "    slice_ID=path[0].split(\"_\")[-2]\n",
    "\n",
    "    # enslist = []\n",
    "\n",
    "    # for i in range(args.num_ensemble):  #this is for the generation of an ensemble of 5 masks.\n",
    "    #     model_kwargs = {}\n",
    "    #     start_time = time.time()\n",
    "\n",
    "    #     print(\"sample \" + str(i))\n",
    "    #     sample_fn = (\n",
    "    #         diffusion.p_sample_loop_known if not args.use_ddim else diffusion.ddim_sample_loop_known\n",
    "    #     )\n",
    "\n",
    "    #     with th.no_grad(), th.cpu.amp.autocast():\n",
    "    #         sample, x_noisy, org, cal, cal_out = sample_fn(\n",
    "    #             model,\n",
    "    #             (args.batch_size, args.in_ch, args.image_size, args.image_size), img,\n",
    "    #             step = args.diffusion_steps,\n",
    "    #             clip_denoised=args.clip_denoised,\n",
    "    #             model_kwargs=model_kwargs,\n",
    "    #         )\n",
    "\n",
    "    #     print(\"--- %s seconds ---\" % (time.time() - start_time))\n",
    "\n",
    "    #     co = th.tensor(cal_out)\n",
    "    #     if args.version == 'new':\n",
    "    #         enslist.append(sample[:,-1,:,:])\n",
    "    #     else:\n",
    "    #         enslist.append(co)\n",
    "\n",
    "    # ensres = staple(th.stack(enslist,dim=0)).squeeze(0)\n",
    "    # vutils.save_image(ensres, fp = os.path.join(args.out_dir, str(slice_ID)+'_output_ens'+\".jpg\"), nrow = 1, padding = 10)\n",
    "\n",
    "    # Extract the four images\n",
    "    import matplotlib.pyplot as plt\n",
    "    image_0 = b[0, 0].squeeze().cpu().numpy()\n",
    "    image_1 = b[0, 1].squeeze().cpu().numpy()\n",
    "    image_2 = b[0, 2].squeeze().cpu().numpy()\n",
    "    image_3 = b[0, 3].squeeze().cpu().numpy()\n",
    "\n",
    "    # Create a 2x2 grid of subplots\n",
    "    plt.figure(figsize=(10, 10))\n",
    "\n",
    "    plt.subplot(2, 2, 1)\n",
    "    plt.imshow(image_0, cmap='gray')\n",
    "    plt.title(\"Image 0\")\n",
    "    plt.axis('off')\n",
    "\n",
    "    plt.subplot(2, 2, 2)\n",
    "    plt.imshow(image_1, cmap='gray')\n",
    "    plt.title(\"Image 1\")\n",
    "    plt.axis('off')\n",
    "\n",
    "    plt.subplot(2, 2, 3)\n",
    "    plt.imshow(image_2, cmap='gray')\n",
    "    plt.title(\"Image 2\")\n",
    "    plt.axis('off')\n",
    "\n",
    "    plt.subplot(2, 2, 4)\n",
    "    plt.imshow(image_3, cmap='gray')\n",
    "    plt.title(\"Image 3\")\n",
    "    plt.axis('off')\n",
    "\n",
    "    plt.tight_layout()  # Ensure proper spacing between subplots\n",
    "    plt.show()\n",
    "    \n",
    "    break"
   ]
  },
  {
   "cell_type": "code",
   "execution_count": null,
   "id": "813c4c48-84cd-406f-9519-d24bc1a735ed",
   "metadata": {
    "tags": []
   },
   "outputs": [],
   "source": [
    "from PIL import Image\n",
    "im = Image.fromarray(image_0)\n",
    "im = im.convert('RGB')\n",
    "im.save(\"your_file.jpg\")"
   ]
  },
  {
   "cell_type": "code",
   "execution_count": null,
   "id": "1d6511db-2bb0-4899-b016-b326f5439e5f",
   "metadata": {
    "tags": []
   },
   "outputs": [],
   "source": [
    "import matplotlib.image\n",
    "matplotlib.image.imsave('your_file.jpg', m.squeeze().cpu().numpy())"
   ]
  },
  {
   "cell_type": "code",
   "execution_count": null,
   "id": "bed70968-067e-474e-a8e3-5c39cd8ae000",
   "metadata": {
    "tags": []
   },
   "outputs": [],
   "source": [
    "import matplotlib.image as mpimg\n",
    "img=mpimg.imread('your_file.jpg')\n",
    "plt.imshow(img, cmap='gray')"
   ]
  },
  {
   "cell_type": "code",
   "execution_count": null,
   "id": "b3c9517e-510f-417e-bb68-815f4c4260e8",
   "metadata": {
    "tags": []
   },
   "outputs": [],
   "source": [
    "import nibabel as nib\n",
    "import matplotlib.pyplot as plt\n",
    "\n",
    "test_load = nib.load('data/MICCAI_BraTS2020_TrainingData/BraTS20_Training_003/BraTS20_Training_003_t2.nii.gz').get_fdata()\n",
    "test_seg = nib.load('data/MICCAI_BraTS2020_TrainingData/BraTS20_Training_003/BraTS20_Training_003_seg.nii.gz').get_fdata()"
   ]
  },
  {
   "cell_type": "code",
   "execution_count": null,
   "id": "426efbae-1c57-45d5-bb00-bf323cf78e35",
   "metadata": {
    "tags": []
   },
   "outputs": [],
   "source": [
    "from scipy import ndimage\n",
    "rotated_img = ndimage.rotate(test_load[:,:,int(155/2)], -90)\n",
    "rotated_seg = ndimage.rotate(test_seg[:,:,int(155/2)], -90)\n",
    "plt.imshow(rotated_img, cmap='gray')\n",
    "plt.show()"
   ]
  },
  {
   "cell_type": "code",
   "execution_count": null,
   "id": "111426d8-2d47-4324-8426-244c9098aa13",
   "metadata": {
    "tags": []
   },
   "outputs": [],
   "source": [
    "rotated_seg[rotated_seg>rotated_seg.mean()] = 1"
   ]
  },
  {
   "cell_type": "code",
   "execution_count": null,
   "id": "7432f2c3-4d1c-4b26-9e29-40dcbc0e93a2",
   "metadata": {
    "tags": []
   },
   "outputs": [],
   "source": [
    "rotated_seg[rotated_seg>rotated_seg.mean()] = 1\n",
    "plt.imshow(rotated_img, cmap='gray')\n",
    "plt.imshow(rotated_seg, cmap='jet', interpolation='none',alpha=0.5)\n",
    "plt.show()"
   ]
  },
  {
   "cell_type": "code",
   "execution_count": null,
   "id": "2c6bfa52-b471-44bc-ae21-24fb9bce6f08",
   "metadata": {
    "tags": []
   },
   "outputs": [],
   "source": [
    "rotated_img.shape"
   ]
  },
  {
   "cell_type": "code",
   "execution_count": null,
   "id": "19b2c4ea-9060-4bc0-9af8-89973712972a",
   "metadata": {
    "tags": []
   },
   "outputs": [],
   "source": [
    "from segmentation_mask_overlay import overlay_masks\n",
    "fig = overlay_masks(rotated_img, rotated_seg, colors = 'r', beta = .8, return_type=\"numpy\")"
   ]
  },
  {
   "cell_type": "code",
   "execution_count": null,
   "id": "02401271-7bc5-4d69-88bb-c316248cf04f",
   "metadata": {
    "tags": []
   },
   "outputs": [],
   "source": [
    "plt.imshow(fig)"
   ]
  },
  {
   "cell_type": "code",
   "execution_count": null,
   "id": "d2a2a023-9dbd-4acb-ae3d-b9c5d1c8e3e0",
   "metadata": {
    "tags": []
   },
   "outputs": [],
   "source": [
    "path = 'data/MICCAI_BraTS2020_TrainingData/BraTS20_Training_001'\n",
    "for root, dirs, files in os.walk(path):\n",
    "    files.sort()\n",
    "    print(files)\n",
    "    # datapoint = dict()\n",
    "    # # extract all files as channels\n",
    "    # for f in files:\n",
    "    #     seqtype = f.split('_')[3].split('.')[0]\n",
    "    #     datapoint[seqtype] = os.path.join(root, f)"
   ]
  },
  {
   "cell_type": "code",
   "execution_count": null,
   "id": "a097ae0d-9f5d-44a4-b684-725b1db66389",
   "metadata": {
    "tags": []
   },
   "outputs": [],
   "source": [
    "dir_list = os.listdir(path)\n",
    "dir_list.sort()\n",
    "datapoint = dict()\n",
    "for f in dir_list:\n",
    "    seqtype = f.split('_')[3].split('.')[0]\n",
    "    datapoint[seqtype] = os.path.join(root, f)\n",
    "\n",
    "assert set(datapoint.keys()) == set(['t1', 't1ce', 't2', 'flair', 'seg'])\n",
    "                                 "
   ]
  },
  {
   "cell_type": "code",
   "execution_count": null,
   "id": "75672d37-f5c6-434a-8c89-b1774c7aa8e8",
   "metadata": {},
   "outputs": [],
   "source": []
  },
  {
   "cell_type": "code",
   "execution_count": null,
   "id": "80c04b17-2e84-4629-a1ea-b3b378f7ae9b",
   "metadata": {
    "tags": []
   },
   "outputs": [],
   "source": [
    "import torch\n",
    "import intel_extension_for_pytorch as ipex\n",
    "from torch import nn\n",
    "from torch.utils.data import DataLoader\n",
    "import torchvision.transforms as transforms\n",
    "from guided_diffusion.bratsloader import BRATSDataset3D_midslice\n",
    "\n",
    "batch_size = 128\n",
    "in_ch = 4\n",
    "img_size = 256\n",
    "\n",
    "tran_list = [transforms.Resize((img_size,img_size))]\n",
    "transform_test = transforms.Compose(tran_list)\n",
    "\n",
    "training_data = BRATSDataset3D_midslice('data/MICCAI_BraTS2020_TrainingData/',transform_test)\n",
    "\n",
    "\n",
    "training_dataset = DataLoader(\n",
    "    training_data,\n",
    "    batch_size=batch_size,\n",
    "    shuffle=True)\n",
    "\n",
    "validation_data = BRATSDataset3D_midslice('data/MICCAI_BraTS2020_ValidationData/',transform_test, test_flag=True)\n",
    "\n",
    "validation_dataset = DataLoader(\n",
    "    validation_data,\n",
    "    batch_size=batch_size,\n",
    "    shuffle=True)\n",
    "\n",
    "# Set device\n",
    "device = (\n",
    "    \"cuda\"\n",
    "    if torch.cuda.is_available()\n",
    "    else \"cpu\"\n",
    ")\n",
    "print(f\"Using {device} device\")\n",
    "\n",
    "# Define model\n",
    "from guided_diffusion.unet_parts import BasicUNet\n",
    "model = BasicUNet(n_channels=in_ch, n_classes=1).to(device)\n",
    "# print(model)\n",
    "\n",
    "\n",
    "loss_fn = nn.BCEWithLogitsLoss\n",
    "optimizer = torch.optim.SGD(model.parameters(), lr=1e-3)\n",
    "\n",
    "def train(dataloader, model, loss_fn, optimizer):\n",
    "    size = len(dataloader.dataset)\n",
    "    model.train()\n",
    "    model, optimizer = ipex.optimize(model, optimizer=optimizer, dtype=torch.bfloat16)\n",
    "    \n",
    "    for batch, (X, y, _) in enumerate(dataloader):\n",
    "        X, y = X.to(torch.float32).to(device), y.to(torch.float32).to(device)\n",
    "\n",
    "        # Compute prediction error\n",
    "        with torch.cpu.amp.autocast():\n",
    "            pred = model(X)\n",
    "            # import pdb\n",
    "            # pdb.set_trace()\n",
    "            loss = loss_fn(pred, y)\n",
    "\n",
    "        # Backpropagation\n",
    "        loss.backward()\n",
    "        optimizer.step()\n",
    "        optimizer.zero_grad()\n",
    "        \n",
    "        torch.save(model.state_dict(), \"model_0.pth\")\n",
    "\n",
    "        if batch % 10 == 0:\n",
    "            loss, current = loss.item(), (batch + 1) * len(X)\n",
    "            print(f\"loss: {loss:>7f}  [{current:>5d}/{size:>5d}]\")\n",
    "            \n",
    "            \n",
    "# def test(dataloader, model, loss_fn):\n",
    "#     size = len(dataloader.dataset)\n",
    "#     num_batches = len(dataloader)\n",
    "#     model.eval()\n",
    "#     model = ipex.optimize(model, dtype=torch.bfloat16)\n",
    "#     test_loss, correct = 0, 0\n",
    "#     with torch.no_grad():\n",
    "#         for X, y, _ in dataloader:\n",
    "#             X, y = X.to(torch.float32).to(device), y.to(torch.float32).to(device)\n",
    "#             with torch.cpu.amp.autocast():\n",
    "#                 pred = model(X)\n",
    "#                 test_loss += loss_fn(pred, y).item()\n",
    "#                 correct += (pred.argmax(1) == y).type(torch.float).sum().item()\n",
    "#     test_loss /= num_batches\n",
    "#     correct /= size\n",
    "#     print(f\"Test Error: \\n Accuracy: {(100*correct):>0.1f}%, Avg loss: {test_loss:>8f} \\n\")\n",
    "#     return test_loss\n",
    "    \n",
    "loss_fn = nn.BCEWithLogitsLoss()\n",
    "optimizer = torch.optim.SGD(model.parameters(), lr=1e-3)"
   ]
  },
  {
   "cell_type": "code",
   "execution_count": null,
   "id": "1efb6639-419b-4813-8b6b-094b7e35308b",
   "metadata": {
    "tags": []
   },
   "outputs": [],
   "source": [
    "lowest_loss = 1e9\n",
    "epochs = 200\n",
    "\n",
    "import time\n",
    "\n",
    "for t in range(epochs):\n",
    "    print(f\"Epoch {t+1}\\n-------------------------------\")\n",
    "    start = time.time()\n",
    "    train(training_dataset, model, loss_fn, optimizer)\n",
    "    end = time.time()\n",
    "    print(end - start)\n",
    "    \n",
    "#     start = time.time()\n",
    "#     test_loss = test(validation_dataset, model, loss_fn)\n",
    "#     end = time.time()\n",
    "#     print(end - start)\n",
    "    \n",
    "#     if test_loss < lowest_loss:\n",
    "#         lowest_loss = test_loss\n",
    "    torch.save(model.state_dict(), \"model.pth\")\n",
    "    print(\"Saved PyTorch Model State to model.pth\")\n",
    "\n",
    "print(\"Done!\")"
   ]
  },
  {
   "cell_type": "code",
   "execution_count": null,
   "id": "e7ad5334-199d-4328-86a6-c94a8f59b092",
   "metadata": {},
   "outputs": [],
   "source": [
    "import torch\n",
    "import intel_extension_for_pytorch as ipex\n",
    "from torch import nn\n",
    "\n",
    "seed=42\n",
    "torch.manual_seed(seed)\n",
    "\n",
    "from guided_diffusion.unet_parts import BasicUNet\n",
    "model = BasicUNet(n_channels=4, n_classes=1)\n",
    "optimizer = torch.optim.SGD(model.parameters(), lr=1e-3)\n",
    "\n",
    "\n",
    "print(model.inc.double_conv[0].weight[0].mean())\n",
    "model.train()\n",
    "model_ipex, optimizer_ipex = ipex.optimize(model, optimizer=optimizer, dtype=torch.bfloat16)\n",
    "print(model_ipex.inc.double_conv[0].weight[0].mean())\n",
    "\n",
    "checkpoint = torch.load('model.pth')\n",
    "model.load_state_dict(checkpoint['model_state_dict'])\n",
    "print(model.inc.double_conv[0].weight[0].mean())\n",
    "model.train()\n",
    "model_ipex, optimizer_ipex = ipex.optimize(model, optimizer=optimizer, dtype=torch.bfloat16)\n",
    "print(model_ipex.inc.double_conv[0].weight[0].mean())"
   ]
  },
  {
   "cell_type": "code",
   "execution_count": null,
   "id": "5f360fd9-b92f-4cc8-a369-e95fcef85c1b",
   "metadata": {
    "tags": []
   },
   "outputs": [],
   "source": [
    "seed=42\n",
    "torch.manual_seed(seed)\n",
    "\n",
    "from guided_diffusion.unet_parts import BasicUNet\n",
    "model = BasicUNet(n_channels=4, n_classes=1)\n",
    "print(model_ipex.inc.double_conv[0].weight[0].mean())\n",
    "# load_model(model)\n",
    "\n",
    "def load_model(model):\n",
    "    model.train\n",
    "    model_ipex, optimizer_ipex = ipex.optimize(model, optimizer=optimizer, dtype=torch.bfloat16)\n",
    "    print(model_ipex.inc.double_conv[0].weight[0].mean())\n",
    "#     for name, param in model.named_parameters():\n",
    "#         print(param.mean())\n",
    "\n",
    "for _ in range(5):\n",
    "    load_model(model)\n",
    "    checkpoint = torch.load('model.pth')\n",
    "    model.load_state_dict(checkpoint['model_state_dict'])"
   ]
  },
  {
   "cell_type": "code",
   "execution_count": null,
   "id": "e6faf816-1e64-43eb-a658-8ed49c7bb647",
   "metadata": {
    "tags": []
   },
   "outputs": [],
   "source": [
    "from guided_diffusion.unet_parts import BasicUNet\n",
    "model = BasicUNet(n_channels=4, n_classes=1)\n",
    "optimizer = torch.optim.SGD(model.parameters(), lr=1e-3)\n",
    "\n",
    "checkpoint = torch.load('model.pth')\n",
    "\n",
    "# print(optimizer.state_dict())\n",
    "# print('-------')\n",
    "# model_ipex, optimizer_ipex = ipex.optimize(model, optimizer=optimizer, dtype=torch.bfloat16)\n",
    "# print(optimizer_ipex.state_dict())\n",
    "\n",
    "# optimizer.load_state_dict(checkpoint['optimizer_state_dict'])\n",
    "# print(optimizer.state_dict())\n",
    "# print('-------')\n",
    "model_ipex, optimizer_ipex = ipex.optimize(model, optimizer=optimizer, dtype=torch.bfloat16)\n",
    "print(optimizer_ipex.state_dict())\n",
    "print('-------')\n",
    "optimizer_ipex.load_state_dict(checkpoint['optimizer_state_dict'])\n",
    "print(optimizer_ipex.state_dict())"
   ]
  },
  {
   "cell_type": "code",
   "execution_count": null,
   "id": "605e808d-d4d4-4fa2-bdbd-f3aa78631960",
   "metadata": {
    "tags": []
   },
   "outputs": [],
   "source": [
    "for name, param in model.named_parameters():\n",
    "    print(param.mean())"
   ]
  },
  {
   "cell_type": "code",
   "execution_count": null,
   "id": "fde503d7-edd7-46dd-83c2-921cd96a5ec1",
   "metadata": {
    "tags": []
   },
   "outputs": [],
   "source": [
    "import gradio as gr\n",
    "\n",
    "# def segment_organs(input_img, dropdown):\n",
    "#     # Loading a nifti in the traditional sense\n",
    "#     slice1_num =  150\n",
    "\n",
    "#     t1 = time()\n",
    "#     segmentation, im_path = process_case(input_img.name)\n",
    "#     t2 = time()\n",
    "#     print((t2-t1)/60)\n",
    "#     slice1 = np.squeeze(segmentation[:, :, slice1_num])\n",
    "#     slice1_float = (slice1 - np.min(slice1)) /(np.max(slice1) - np.min(slice1)) \n",
    "\n",
    "#     return \"mesh_test.obj\", im_path\n",
    "\n",
    "def segment_organs(input_img, dropdown):\n",
    "    return('Hello world')\n",
    "\n",
    "demo = gr.Interface(segment_organs, \n",
    "    [\"file\", gr.Dropdown(['UNET', 'UNETR'], label=\"Model\")], \n",
    "    [gr.Model3D(), \"image\"], \n",
    "    live=False, \n",
    "    title=\"Organ segmentation with UNET/UNETR\")\n",
    "\n",
    "demo.launch(share=False, server_name=\"0.0.0.0\")\n",
    "# demo.launch(share=False, server_name=\"0.0.0.0\", server_port=8889)"
   ]
  },
  {
   "cell_type": "code",
   "execution_count": 1,
   "id": "6137e2e1-224c-4d77-bd25-46cd40d2dba1",
   "metadata": {
    "tags": []
   },
   "outputs": [
    {
     "data": {
      "text/plain": [
       "BasicUNet(\n",
       "  (inc): DoubleConv(\n",
       "    (double_conv): Sequential(\n",
       "      (0): Conv2d(4, 64, kernel_size=(3, 3), stride=(1, 1), padding=(1, 1), bias=False)\n",
       "      (1): BatchNorm2d(64, eps=1e-05, momentum=0.1, affine=True, track_running_stats=True)\n",
       "      (2): ReLU(inplace=True)\n",
       "      (3): Conv2d(64, 64, kernel_size=(3, 3), stride=(1, 1), padding=(1, 1), bias=False)\n",
       "      (4): BatchNorm2d(64, eps=1e-05, momentum=0.1, affine=True, track_running_stats=True)\n",
       "      (5): ReLU(inplace=True)\n",
       "    )\n",
       "  )\n",
       "  (down1): Down(\n",
       "    (maxpool_conv): Sequential(\n",
       "      (0): MaxPool2d(kernel_size=2, stride=2, padding=0, dilation=1, ceil_mode=False)\n",
       "      (1): DoubleConv(\n",
       "        (double_conv): Sequential(\n",
       "          (0): Conv2d(64, 128, kernel_size=(3, 3), stride=(1, 1), padding=(1, 1), bias=False)\n",
       "          (1): BatchNorm2d(128, eps=1e-05, momentum=0.1, affine=True, track_running_stats=True)\n",
       "          (2): ReLU(inplace=True)\n",
       "          (3): Conv2d(128, 128, kernel_size=(3, 3), stride=(1, 1), padding=(1, 1), bias=False)\n",
       "          (4): BatchNorm2d(128, eps=1e-05, momentum=0.1, affine=True, track_running_stats=True)\n",
       "          (5): ReLU(inplace=True)\n",
       "        )\n",
       "      )\n",
       "    )\n",
       "  )\n",
       "  (down2): Down(\n",
       "    (maxpool_conv): Sequential(\n",
       "      (0): MaxPool2d(kernel_size=2, stride=2, padding=0, dilation=1, ceil_mode=False)\n",
       "      (1): DoubleConv(\n",
       "        (double_conv): Sequential(\n",
       "          (0): Conv2d(128, 256, kernel_size=(3, 3), stride=(1, 1), padding=(1, 1), bias=False)\n",
       "          (1): BatchNorm2d(256, eps=1e-05, momentum=0.1, affine=True, track_running_stats=True)\n",
       "          (2): ReLU(inplace=True)\n",
       "          (3): Conv2d(256, 256, kernel_size=(3, 3), stride=(1, 1), padding=(1, 1), bias=False)\n",
       "          (4): BatchNorm2d(256, eps=1e-05, momentum=0.1, affine=True, track_running_stats=True)\n",
       "          (5): ReLU(inplace=True)\n",
       "        )\n",
       "      )\n",
       "    )\n",
       "  )\n",
       "  (down3): Down(\n",
       "    (maxpool_conv): Sequential(\n",
       "      (0): MaxPool2d(kernel_size=2, stride=2, padding=0, dilation=1, ceil_mode=False)\n",
       "      (1): DoubleConv(\n",
       "        (double_conv): Sequential(\n",
       "          (0): Conv2d(256, 512, kernel_size=(3, 3), stride=(1, 1), padding=(1, 1), bias=False)\n",
       "          (1): BatchNorm2d(512, eps=1e-05, momentum=0.1, affine=True, track_running_stats=True)\n",
       "          (2): ReLU(inplace=True)\n",
       "          (3): Conv2d(512, 512, kernel_size=(3, 3), stride=(1, 1), padding=(1, 1), bias=False)\n",
       "          (4): BatchNorm2d(512, eps=1e-05, momentum=0.1, affine=True, track_running_stats=True)\n",
       "          (5): ReLU(inplace=True)\n",
       "        )\n",
       "      )\n",
       "    )\n",
       "  )\n",
       "  (down4): Down(\n",
       "    (maxpool_conv): Sequential(\n",
       "      (0): MaxPool2d(kernel_size=2, stride=2, padding=0, dilation=1, ceil_mode=False)\n",
       "      (1): DoubleConv(\n",
       "        (double_conv): Sequential(\n",
       "          (0): Conv2d(512, 1024, kernel_size=(3, 3), stride=(1, 1), padding=(1, 1), bias=False)\n",
       "          (1): BatchNorm2d(1024, eps=1e-05, momentum=0.1, affine=True, track_running_stats=True)\n",
       "          (2): ReLU(inplace=True)\n",
       "          (3): Conv2d(1024, 1024, kernel_size=(3, 3), stride=(1, 1), padding=(1, 1), bias=False)\n",
       "          (4): BatchNorm2d(1024, eps=1e-05, momentum=0.1, affine=True, track_running_stats=True)\n",
       "          (5): ReLU(inplace=True)\n",
       "        )\n",
       "      )\n",
       "    )\n",
       "  )\n",
       "  (up1): Up(\n",
       "    (up): ConvTranspose2d(1024, 512, kernel_size=(2, 2), stride=(2, 2))\n",
       "    (conv): DoubleConv(\n",
       "      (double_conv): Sequential(\n",
       "        (0): Conv2d(1024, 512, kernel_size=(3, 3), stride=(1, 1), padding=(1, 1), bias=False)\n",
       "        (1): BatchNorm2d(512, eps=1e-05, momentum=0.1, affine=True, track_running_stats=True)\n",
       "        (2): ReLU(inplace=True)\n",
       "        (3): Conv2d(512, 512, kernel_size=(3, 3), stride=(1, 1), padding=(1, 1), bias=False)\n",
       "        (4): BatchNorm2d(512, eps=1e-05, momentum=0.1, affine=True, track_running_stats=True)\n",
       "        (5): ReLU(inplace=True)\n",
       "      )\n",
       "    )\n",
       "  )\n",
       "  (up2): Up(\n",
       "    (up): ConvTranspose2d(512, 256, kernel_size=(2, 2), stride=(2, 2))\n",
       "    (conv): DoubleConv(\n",
       "      (double_conv): Sequential(\n",
       "        (0): Conv2d(512, 256, kernel_size=(3, 3), stride=(1, 1), padding=(1, 1), bias=False)\n",
       "        (1): BatchNorm2d(256, eps=1e-05, momentum=0.1, affine=True, track_running_stats=True)\n",
       "        (2): ReLU(inplace=True)\n",
       "        (3): Conv2d(256, 256, kernel_size=(3, 3), stride=(1, 1), padding=(1, 1), bias=False)\n",
       "        (4): BatchNorm2d(256, eps=1e-05, momentum=0.1, affine=True, track_running_stats=True)\n",
       "        (5): ReLU(inplace=True)\n",
       "      )\n",
       "    )\n",
       "  )\n",
       "  (up3): Up(\n",
       "    (up): ConvTranspose2d(256, 128, kernel_size=(2, 2), stride=(2, 2))\n",
       "    (conv): DoubleConv(\n",
       "      (double_conv): Sequential(\n",
       "        (0): Conv2d(256, 128, kernel_size=(3, 3), stride=(1, 1), padding=(1, 1), bias=False)\n",
       "        (1): BatchNorm2d(128, eps=1e-05, momentum=0.1, affine=True, track_running_stats=True)\n",
       "        (2): ReLU(inplace=True)\n",
       "        (3): Conv2d(128, 128, kernel_size=(3, 3), stride=(1, 1), padding=(1, 1), bias=False)\n",
       "        (4): BatchNorm2d(128, eps=1e-05, momentum=0.1, affine=True, track_running_stats=True)\n",
       "        (5): ReLU(inplace=True)\n",
       "      )\n",
       "    )\n",
       "  )\n",
       "  (up4): Up(\n",
       "    (up): ConvTranspose2d(128, 64, kernel_size=(2, 2), stride=(2, 2))\n",
       "    (conv): DoubleConv(\n",
       "      (double_conv): Sequential(\n",
       "        (0): Conv2d(128, 64, kernel_size=(3, 3), stride=(1, 1), padding=(1, 1), bias=False)\n",
       "        (1): BatchNorm2d(64, eps=1e-05, momentum=0.1, affine=True, track_running_stats=True)\n",
       "        (2): ReLU(inplace=True)\n",
       "        (3): Conv2d(64, 64, kernel_size=(3, 3), stride=(1, 1), padding=(1, 1), bias=False)\n",
       "        (4): BatchNorm2d(64, eps=1e-05, momentum=0.1, affine=True, track_running_stats=True)\n",
       "        (5): ReLU(inplace=True)\n",
       "      )\n",
       "    )\n",
       "  )\n",
       "  (outc): OutConv(\n",
       "    (conv): Conv2d(64, 1, kernel_size=(1, 1), stride=(1, 1))\n",
       "  )\n",
       ")"
      ]
     },
     "execution_count": 1,
     "metadata": {},
     "output_type": "execute_result"
    }
   ],
   "source": [
    "import torch\n",
    "\n",
    "seed=42\n",
    "torch.manual_seed(seed)\n",
    "\n",
    "from guided_diffusion.unet_parts import BasicUNet\n",
    "model = BasicUNet(n_channels=4, n_classes=1)\n",
    "checkpoint = torch.load('model_nonnormalized.pth', map_location=torch.device('cpu'))\n",
    "model.load_state_dict(checkpoint['model_state_dict'])\n",
    "# model.load_state_dict(torch.load('model_nonnormalized.pth', map_location=torch.device('cpu')))\n",
    "model.eval()"
   ]
  },
  {
   "cell_type": "code",
   "execution_count": 5,
   "id": "4c66280c-4487-4dc4-beb8-da718662658c",
   "metadata": {
    "tags": []
   },
   "outputs": [
    {
     "name": "stdout",
     "output_type": "stream",
     "text": [
      "tensor(96.8489, grad_fn=<MulBackward0>)\n"
     ]
    },
    {
     "data": {
      "text/plain": [
       "<matplotlib.image.AxesImage at 0x1459b86525c0>"
      ]
     },
     "execution_count": 5,
     "metadata": {},
     "output_type": "execute_result"
    },
    {
     "data": {
      "image/png": "[encoded data removed]",
      "text/plain": [
       "<Figure size 640x480 with 1 Axes>"
      ]
     },
     "metadata": {},
     "output_type": "display_data"
    }
   ],
   "source": [
    "import torchvision.transforms as transforms\n",
    "from guided_diffusion.bratsloader import BRATSDataset\n",
    "\n",
    "tran_list = [transforms.Resize((128,128)),]\n",
    "transform_test = transforms.Compose(tran_list)\n",
    "\n",
    "ds = BRATSDataset('data/MICCAI_BraTS2020_TrainingData/BraTS20_Training_333', transform_test)\n",
    "\n",
    "datal = torch.utils.data.DataLoader(\n",
    "    ds,\n",
    "    batch_size=1,\n",
    "    shuffle=True)\n",
    "\n",
    "import matplotlib.pyplot as plt\n",
    "from scipy import ndimage\n",
    "import torch.nn.functional as F\n",
    "from guided_diffusion.utils import dice_coeff\n",
    "# sigmoid = torch.nn.Sigmoid()\n",
    "\n",
    "b, m, slide_id = next(iter(datal))\n",
    "\n",
    "m_pred = F.sigmoid(model(b.to(torch.float32)))\n",
    "print(dice_coeff(m_pred, m.int())*100)\n",
    "\n",
    "import matplotlib.pyplot as plt\n",
    "mask = ndimage.rotate(m_pred.detach().squeeze().cpu().numpy(), -90)\n",
    "mask[mask > (mask.max() + mask.min())/2] = 1\n",
    "mask[mask != 1] = 0\n",
    "plt.imshow(mask, cmap='gray')"
   ]
  },
  {
   "cell_type": "code",
   "execution_count": 6,
   "id": "e7621735-9e44-4ca4-86f9-4b012179001d",
   "metadata": {
    "tags": []
   },
   "outputs": [
    {
     "data": {
      "image/png": "[encoded data removed]",
      "text/plain": [
       "<Figure size 500x500 with 4 Axes>"
      ]
     },
     "metadata": {},
     "output_type": "display_data"
    }
   ],
   "source": [
    "import matplotlib.pyplot as plt\n",
    "from scipy import ndimage\n",
    "\n",
    "image_0 = ndimage.rotate(b[0, 0].squeeze().cpu().numpy(), -90)\n",
    "image_1 = ndimage.rotate(b[0, 1].squeeze().cpu().numpy(), -90)\n",
    "image_2 = ndimage.rotate(b[0, 2].squeeze().cpu().numpy(), -90)\n",
    "image_3 = ndimage.rotate(b[0, 3].squeeze().cpu().numpy(), -90)\n",
    "\n",
    "# mask = ndimage.rotate(m.squeeze().cpu().numpy(), -90)\n",
    "\n",
    "from segmentation_mask_overlay import overlay_masks\n",
    "image_0 = overlay_masks(image_0, mask, colors = 'r', beta = .8, return_type=\"numpy\")\n",
    "image_1 = overlay_masks(image_1, mask, colors = 'r', beta = .8, return_type=\"numpy\")\n",
    "image_2 = overlay_masks(image_2, mask, colors = 'r', beta = .8, return_type=\"numpy\")\n",
    "image_3 = overlay_masks(image_3, mask, colors = 'r', beta = .8, return_type=\"numpy\")\n",
    "\n",
    "# Create a 2x2 grid of subplots\n",
    "plt.figure(figsize=(5, 5))\n",
    "\n",
    "plt.subplot(2, 2, 1)\n",
    "plt.imshow(image_0, cmap='gray')\n",
    "plt.title(\"t1\")\n",
    "plt.axis('off')\n",
    "\n",
    "plt.subplot(2, 2, 2)\n",
    "plt.imshow(image_1, cmap='gray')\n",
    "plt.title(\"t1ce\")\n",
    "plt.axis('off')\n",
    "\n",
    "plt.subplot(2, 2, 3)\n",
    "plt.imshow(image_2, cmap='gray')\n",
    "plt.title(\"t2\")\n",
    "plt.axis('off')\n",
    "\n",
    "plt.subplot(2, 2, 4)\n",
    "plt.imshow(image_3, cmap='gray')\n",
    "plt.title(\"flair\")\n",
    "plt.axis('off')\n",
    "\n",
    "plt.tight_layout()  # Ensure proper spacing between subplots\n",
    "plt.show()"
   ]
  },
  {
   "cell_type": "code",
   "execution_count": 28,
   "id": "61c0bdde-4f6b-416c-9e5a-912d7d8db585",
   "metadata": {
    "tags": []
   },
   "outputs": [
    {
     "data": {
      "text/plain": [
       "'BraTS20_Training_053'"
      ]
     },
     "execution_count": 28,
     "metadata": {},
     "output_type": "execute_result"
    }
   ],
   "source": [
    "import os\n",
    "dir_list = os.listdir(\"data/MICCAI_BraTS2020_TrainingData/\")\n",
    "dir_list[0]"
   ]
  },
  {
   "cell_type": "code",
   "execution_count": 1,
   "id": "bd8e9a50-b0a0-46b0-972c-67cb725c9c0f",
   "metadata": {
    "tags": []
   },
   "outputs": [
    {
     "name": "stderr",
     "output_type": "stream",
     "text": [
      "/home/u101753/.conda/envs/MedSegDiff/lib/python3.10/site-packages/torchvision/transforms/functional.py:1603: UserWarning: The default value of the antialias parameter of all the resizing transforms (Resize(), RandomResizedCrop(), etc.) will change from None to True in v0.17, in order to be consistent across the PIL and Tensor backends. To suppress this warning, directly pass antialias=True (recommended, future default), antialias=None (current default, which means False for Tensors and True for PIL), or antialias=False (only works on Tensors - PIL will still use antialiasing). This also applies if you are using the inference transforms from the models weights: update the call to weights.transforms(antialias=True).\n",
      "  warnings.warn(\n"
     ]
    }
   ],
   "source": [
    "import os\n",
    "import torch\n",
    "import torchvision.transforms as transforms\n",
    "from guided_diffusion.bratsloader import BRATSDataset\n",
    "from guided_diffusion.unet_parts import BasicUNet\n",
    "import torch.nn.functional as F\n",
    "from guided_diffusion.utils import dice_coeff\n",
    "\n",
    "seed=42\n",
    "torch.manual_seed(seed)\n",
    "\n",
    "model = BasicUNet(n_channels=4, n_classes=1)\n",
    "checkpoint = torch.load('model_nonnormalized.pth', map_location=torch.device('cpu'))\n",
    "model.load_state_dict(checkpoint['model_state_dict'])\n",
    "\n",
    "model.eval()\n",
    "\n",
    "tran_list = [transforms.Resize((128,128)),]\n",
    "transform_test = transforms.Compose(tran_list)\n",
    "\n",
    "basePath = \"data/MICCAI_BraTS2020_TrainingData/\"\n",
    "dir_list = os.listdir(basePath)\n",
    "\n",
    "dice_scores = dict()\n",
    "\n",
    "for d in dir_list:\n",
    "    if os.path.isdir(os.path.join(basePath, d)):\n",
    "        ds = BRATSDataset(os.path.join(basePath, d), transform_test)\n",
    "\n",
    "        datal = torch.utils.data.DataLoader(\n",
    "            ds,\n",
    "            batch_size=1,\n",
    "            shuffle=True)\n",
    "\n",
    "        b, m, slide_id = next(iter(datal))\n",
    "\n",
    "        m_pred = F.sigmoid(model(b.to(torch.float32)))\n",
    "\n",
    "        dice_scores.update({d : (dice_coeff(m_pred, m.int())*100).item()})\n",
    "        # print(dice_coeff(m_pred, m.int())*100)"
   ]
  },
  {
   "cell_type": "code",
   "execution_count": 3,
   "id": "8fca6118-02d0-45d5-bd8c-610d8f9fb72b",
   "metadata": {
    "tags": []
   },
   "outputs": [
    {
     "name": "stdout",
     "output_type": "stream",
     "text": [
      "BraTS20_Training_333\n",
      "96.84893798828125\n"
     ]
    }
   ],
   "source": [
    "Keymax = max(zip(dice_scores.values(), dice_scores.keys()))[1]\n",
    "print(Keymax)\n",
    "print(dice_scores[Keymax])"
   ]
  }
 ],
 "metadata": {
  "kernelspec": {
   "display_name": "MedSegDiff",
   "language": "python",
   "name": "medsegdiff"
  },
  "language_info": {
   "codemirror_mode": {
    "name": "ipython",
    "version": 3
   },
   "file_extension": ".py",
   "mimetype": "text/x-python",
   "name": "python",
   "nbconvert_exporter": "python",
   "pygments_lexer": "ipython3",
   "version": "3.10.12"
  }
 },
 "nbformat": 4,
 "nbformat_minor": 5
}
